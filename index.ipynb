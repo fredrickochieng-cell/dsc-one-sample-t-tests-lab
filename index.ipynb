{
 "cells": [
  {
   "cell_type": "markdown",
   "metadata": {},
   "source": [
    "# One Sample T-Test - Lab\n",
    "\n",
    "## Introduction\n",
    "Just as you previously used the t-distribution to provide confidence intervals for estimating the population mean, you can also use similar methods to test whether two populations are different, statistically speaking. To do this, you can use a t-test.\n",
    "\n",
    "## Objectives\n",
    "You will be able to:\n",
    "\n",
    "* Perform a one sample t-test and make conclusions about an experiment based on the results\n",
    "\n",
    "### Exercise 1: \n",
    "\n",
    "Create a function in Python `one_sample_ttest(sample, popmean, alpha)` that will take in sample data (an array of observations), the population mean and the alpha value to calculate and print out the t-statistic, critical t-value, and p-value for the sample and identify if the results are significant or not. The function should also create a visualization using `seaborn` of the distribution to check for normality."
   ]
  },
  {
   "cell_type": "code",
   "execution_count": null,
   "metadata": {},
   "outputs": [],
   "source": [
    "import numpy as np\n",
    "import seaborn as sns\n",
    "import matplotlib.pyplot as plt\n",
    "from scipy import stats\n",
    "\n",
    "def one_sample_ttest(sample, popmean, alpha):\n",
    "    # Visualize sample distribution for normality \n",
    "    sns.histplot(sample, kde=True, color='skyblue')\n",
    "    plt.title(\"Sample Distribution (Check for Normality)\")\n",
    "    plt.xlabel(\"Values\")\n",
    "    plt.ylabel(\"Frequency\")\n",
    "    plt.show()\n",
    "\n",
    "    # Population mean \n",
    "    print(f\"Population mean (μ): {popmean}\")\n",
    "\n",
    "    # Sample mean (x̄) using NumPy mean()\n",
    "    sample_mean = np.mean(sample)\n",
    "    print(f\"Sample mean (x̄): {sample_mean:.2f}\")\n",
    "\n",
    "    # Sample Standard Deviation (σ) using NumPy\n",
    "    sample_std = np.std(sample, ddof=1)\n",
    "    print(f\"Sample standard deviation (s): {sample_std:.2f}\")\n",
    "\n",
    "    # Degrees of freedom\n",
    "    n = len(sample)\n",
    "    df = n - 1\n",
    "    print(f\"Degrees of freedom (df): {df}\")\n",
    "\n",
    "    # Calculate the critical t-value (two-tailed)\n",
    "    t_critical = stats.t.ppf(1 - alpha/2, df)\n",
    "    print(f\"Critical t-value (±tα/2): ±{t_critical:.4f}\")\n",
    "\n",
    "    # Calculate the t-value and p-value      \n",
    "    t_stat, p_value = stats.ttest_1samp(sample, popmean)\n",
    "    print(f\"T-statistic: {t_stat:.4f}\")\n",
    "    print(f\"P-value (two-tailed): {p_value:.4e}\")\n",
    "\n",
    "    # Identify if the results are significant or not\n",
    "    if p_value < alpha:\n",
    "        print(\"✅ Reject H₀: The sample mean is significantly different from the population mean.\")\n",
    "    else:\n",
    "        print(\"❌ Fail to reject H₀: No significant difference from the population mean.\")\n",
    "\n",
    "    # return results\n",
    "    return t_stat, p_value, t_critical\n"
   ]
  },
  {
   "cell_type": "markdown",
   "metadata": {},
   "source": [
    "### Exercise 2:\n",
    "\n",
    "Use the function created in Exercise 1 to answer the following analytical questions.\n",
    "\n",
    "In a Python class, some of the students have taken online courses to improve their Python skills.\n",
    "The scores of a random sample of 20 students who underwent the online-course on a Python test are as follows: \n",
    "\n",
    "     [84.0, 92.4, 74.3, 79.4, 86.7, 75.3, 90.9, 86.1, 81.0, 85.1, \n",
    "      78.7, 73.5, 86.9, 87.4, 82.7, 81.9, 69.9, 77.2, 79.3, 83.3]\n",
    "\n",
    "The mean score of the class before the test is 65. The teacher thinks that the online training has really helped the students and now they should perform better than the class (population) mean. Use this to set your null and alternative hypotheses.\n",
    "\n",
    "1. Test to see if the sample mean is significantly different from 65 at the .05 level. Report the t- and p-values.\n",
    "2. The researcher realizes that she accidentally recorded the score that should have been 80.9 as 90.9. Are these corrected scores significantly different from 65 at the .05 level?\n",
    "\n",
    "Bonus: What is the effect size of the first sample compared to the population? How can you interpret this effect size in relation to your significance test?\n",
    "\n",
    "\n",
    "### Solution:"
   ]
  },
  {
   "cell_type": "code",
   "execution_count": 5,
   "metadata": {
    "scrolled": true
   },
   "outputs": [
    {
     "name": "stdout",
     "output_type": "stream",
     "text": [
      "=== Exercise 2 — Original Sample ===\n"
     ]
    },
    {
     "data": {
      "image/png": "[encoded data removed]",
      "text/plain": [
       "<Figure size 432x288 with 1 Axes>"
      ]
     },
     "metadata": {
      "needs_background": "light"
     },
     "output_type": "display_data"
    },
    {
     "name": "stdout",
     "output_type": "stream",
     "text": [
      "Population mean (μ): 65\n",
      "Sample mean (x̄): 81.80\n",
      "Sample standard deviation (s): 5.92\n",
      "Degrees of freedom (df): 19\n",
      "Critical t-value (±tα/2): ±2.0930\n",
      "T-statistic: 12.6876\n",
      "P-value (two-tailed): 1.0053e-10\n",
      "✅ Reject H₀: The sample mean is significantly different from the population mean.\n",
      "\n",
      "=== Exercise 2 — Corrected Sample ===\n"
     ]
    },
    {
     "data": {
      "image/png": "[encoded data removed]",
      "text/plain": [
       "<Figure size 432x288 with 1 Axes>"
      ]
     },
     "metadata": {
      "needs_background": "light"
     },
     "output_type": "display_data"
    },
    {
     "name": "stdout",
     "output_type": "stream",
     "text": [
      "Population mean (μ): 65\n",
      "Sample mean (x̄): 81.30\n",
      "Sample standard deviation (s): 5.52\n",
      "Degrees of freedom (df): 19\n",
      "Critical t-value (±tα/2): ±2.0930\n",
      "T-statistic: 13.2021\n",
      "P-value (two-tailed): 5.0834e-11\n",
      "✅ Reject H₀: The sample mean is significantly different from the population mean.\n",
      "\n",
      "=== Bonus: Effect Size (Cohen’s d) ===\n",
      "Cohen’s d for original sample: 2.84\n",
      "Cohen’s d for corrected sample: 2.95\n"
     ]
    }
   ],
   "source": [
    "# Original data\n",
    "sample1 = [84.0, 92.4, 74.3, 79.4, 86.7, 75.3, 90.9, 86.1,\n",
    "           81.0, 85.1, 78.7, 73.5, 86.9, 87.4, 82.7, 81.9,\n",
    "           69.9, 77.2, 79.3, 83.3]\n",
    "\n",
    "# Corrected data (replace 90.9 → 80.9)\n",
    "sample2 = [84.0, 92.4, 74.3, 79.4, 86.7, 75.3, 80.9, 86.1,\n",
    "           81.0, 85.1, 78.7, 73.5, 86.9, 87.4, 82.7, 81.9,\n",
    "           69.9, 77.2, 79.3, 83.3]\n",
    "\n",
    "# Given parameters\n",
    "popmean = 65\n",
    "alpha = 0.05\n",
    "\n",
    "# --- Test 1: Original Sample ---\n",
    "print(\"=== Exercise 2 — Original Sample ===\")\n",
    "t_stat1, p_val1, t_crit1 = one_sample_ttest(sample1, popmean, alpha)\n",
    "\n",
    "# --- Test 2: Corrected Sample (after fixing 90.9 → 80.9) ---\n",
    "print(\"\\n=== Exercise 2 — Corrected Sample ===\")\n",
    "t_stat2, p_val2, t_crit2 = one_sample_ttest(sample2, popmean, alpha)\n",
    "\n",
    "# --- Bonus: Effect Size (Cohen’s d) ---\n",
    "def cohens_d(sample, popmean):\n",
    "    sample = np.array(sample)\n",
    "    return (np.mean(sample) - popmean) / np.std(sample, ddof=1)\n",
    "\n",
    "d1 = cohens_d(sample1, popmean)\n",
    "d2 = cohens_d(sample2, popmean)\n",
    "\n",
    "print(\"\\n=== Bonus: Effect Size (Cohen’s d) ===\")\n",
    "print(f\"Cohen’s d for original sample: {d1:.2f}\")\n",
    "print(f\"Cohen’s d for corrected sample: {d2:.2f}\")\n"
   ]
  },
  {
   "cell_type": "markdown",
   "metadata": {},
   "source": [
    "Cohen’s d indicates an extremely large effect size, meaning the online training had a very strong positive impact on students’ test performance."
   ]
  },
  {
   "cell_type": "markdown",
   "metadata": {},
   "source": [
    "## Summary\n",
    "\n",
    "In this lab, you saw a quick introduction to hypothesis testing using frequentist methods with t-values and p-values. You saw how a one sample t-test can be applied to contexts where the population mean is unknown and you have a limited amount of sample data. You looked at all the stages required for such hypothesis testing with a description of steps and also, how to perform these functions in Python. The lesson also briefly explains the comparison of using p-value for statistical significance vs. effect sizes. "
   ]
  }
 ],
 "metadata": {
  "kernelspec": {
   "display_name": "Python 3",
   "language": "python",
   "name": "python3"
  },
  "language_info": {
   "codemirror_mode": {
    "name": "ipython",
    "version": 3
   },
   "file_extension": ".py",
   "mimetype": "text/x-python",
   "name": "python",
   "nbconvert_exporter": "python",
   "pygments_lexer": "ipython3",
   "version": "3.7.3"
  },
  "toc": {
   "base_numbering": 1,
   "nav_menu": {},
   "number_sections": true,
   "sideBar": true,
   "skip_h1_title": false,
   "title_cell": "Table of Contents",
   "title_sidebar": "Contents",
   "toc_cell": false,
   "toc_position": {},
   "toc_section_display": true,
   "toc_window_display": false
  }
 },
 "nbformat": 4,
 "nbformat_minor": 2
}
